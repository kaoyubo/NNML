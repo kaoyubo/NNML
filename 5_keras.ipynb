{
 "cells": [
  {
   "cell_type": "markdown",
   "metadata": {},
   "source": [
    "## Keras for Deep Learning\n",
    "<br>\n",
    "Keras is an open source python module for neural networks. It is a wrapper for popular deep learning modules such as tensorflow or theano that provides intuitive and clean, simple API. The example here is going to be similar to our previous notebook, classify Reuters newswires. Code example is adapted from [Deep Learning with Python](https://www.manning.com/books/deep-learning-with-python) by Francois Chollet. "
   ]
  },
  {
   "cell_type": "code",
   "execution_count": 20,
   "metadata": {},
   "outputs": [],
   "source": [
    "from keras.datasets import reuters\n",
    "import numpy as np \n",
    "import pandas as pd\n",
    "\n",
    "max_words = 10000   # top 10000 most common words"
   ]
  },
  {
   "cell_type": "code",
   "execution_count": 2,
   "metadata": {},
   "outputs": [],
   "source": [
    "(train_data, train_labels), (test_data, test_labels) = reuters.load_data(num_words=max_words)"
   ]
  },
  {
   "cell_type": "code",
   "execution_count": 3,
   "metadata": {},
   "outputs": [],
   "source": [
    "def vectorize_sequences(sequences, dimension=10000):\n",
    "    results = np.zeros((len(sequences), dimension))\n",
    "    for i, sequence in enumerate(sequences):\n",
    "        results[i, sequence] = 1.\n",
    "    return results\n",
    "\n",
    "X_train = vectorize_sequences(train_data)\n",
    "X_test = vectorize_sequences(test_data)"
   ]
  },
  {
   "cell_type": "code",
   "execution_count": 15,
   "metadata": {},
   "outputs": [],
   "source": [
    "def to_one_hot(labels, dimension=46):\n",
    "    results = np.zeros((len(labels), dimension))\n",
    "    for i, label in enumerate(labels):\n",
    "        results[i, label] = 1.\n",
    "    return results \n",
    "\n",
    "y_train = to_one_hot(train_labels) # one hot \n",
    "y_test = to_one_hot(test_labels) "
   ]
  },
  {
   "cell_type": "markdown",
   "metadata": {
    "collapsed": true
   },
   "source": [
    "### Train Nueral Network with Keras \n",
    "\n",
    "Here we set up a fully-connected neural network with one hidden layer and set hyperparameters similar to previous workbook. "
   ]
  },
  {
   "cell_type": "code",
   "execution_count": 16,
   "metadata": {},
   "outputs": [],
   "source": [
    "from keras.models import Sequential\n",
    "from keras.layers import Dense, Activation"
   ]
  },
  {
   "cell_type": "code",
   "execution_count": 17,
   "metadata": {},
   "outputs": [],
   "source": [
    "batch_size = 32\n",
    "epochs = 10\n",
    "num_classes = 46"
   ]
  },
  {
   "cell_type": "code",
   "execution_count": 18,
   "metadata": {},
   "outputs": [],
   "source": [
    "model = Sequential()\n",
    "model.add(Dense(64, input_shape=(max_words,)))\n",
    "model.add(Activation('relu'))\n",
    "model.add(Dense(num_classes))\n",
    "model.add(Activation('softmax'))\n",
    "\n",
    "model.compile(loss='categorical_crossentropy', optimizer='adam', metrics=['accuracy'])"
   ]
  },
  {
   "cell_type": "code",
   "execution_count": 19,
   "metadata": {},
   "outputs": [
    {
     "name": "stdout",
     "output_type": "stream",
     "text": [
      "Train on 8083 samples, validate on 899 samples\n",
      "Epoch 1/10\n",
      "8083/8083 [==============================] - 5s 617us/step - loss: 1.5358 - acc: 0.6822 - val_loss: 1.0939 - val_acc: 0.7575\n",
      "Epoch 2/10\n",
      "8083/8083 [==============================] - 5s 619us/step - loss: 0.6408 - acc: 0.8635 - val_loss: 0.9386 - val_acc: 0.7953\n",
      "Epoch 3/10\n",
      "8083/8083 [==============================] - 5s 560us/step - loss: 0.3663 - acc: 0.9269 - val_loss: 0.8611 - val_acc: 0.8198\n",
      "Epoch 4/10\n",
      "8083/8083 [==============================] - 5s 582us/step - loss: 0.2510 - acc: 0.9436 - val_loss: 0.8838 - val_acc: 0.8076\n",
      "Epoch 5/10\n",
      "8083/8083 [==============================] - 5s 608us/step - loss: 0.2050 - acc: 0.9532 - val_loss: 0.9112 - val_acc: 0.8065\n",
      "Epoch 6/10\n",
      "8083/8083 [==============================] - 5s 670us/step - loss: 0.1800 - acc: 0.9539 - val_loss: 0.9389 - val_acc: 0.8053\n",
      "Epoch 7/10\n",
      "8083/8083 [==============================] - 5s 593us/step - loss: 0.1694 - acc: 0.9539 - val_loss: 0.9783 - val_acc: 0.8053\n",
      "Epoch 8/10\n",
      "8083/8083 [==============================] - 6s 709us/step - loss: 0.1601 - acc: 0.9550 - val_loss: 0.9899 - val_acc: 0.7987\n",
      "Epoch 9/10\n",
      "8083/8083 [==============================] - 4s 502us/step - loss: 0.1509 - acc: 0.9572 - val_loss: 1.0162 - val_acc: 0.7998\n",
      "Epoch 10/10\n",
      "8083/8083 [==============================] - 4s 504us/step - loss: 0.1436 - acc: 0.9586 - val_loss: 1.0530 - val_acc: 0.7931\n"
     ]
    }
   ],
   "source": [
    "history = model.fit(X_train, y_train,\n",
    "                    batch_size=batch_size,\n",
    "                    epochs=epochs,\n",
    "                    verbose=1,\n",
    "                    validation_split=0.1)"
   ]
  },
  {
   "cell_type": "code",
   "execution_count": 21,
   "metadata": {},
   "outputs": [
    {
     "name": "stdout",
     "output_type": "stream",
     "text": [
      "2246/2246 [==============================] - 0s 196us/step\n",
      "Test score: 1.0129543437770936\n",
      "Test accuracy: 0.7974176313446126\n"
     ]
    }
   ],
   "source": [
    "score = model.evaluate(X_test, y_test, batch_size=batch_size, verbose=1)\n",
    "print('Test score:', score[0])\n",
    "print('Test accuracy:', score[1])"
   ]
  },
  {
   "cell_type": "code",
   "execution_count": 28,
   "metadata": {},
   "outputs": [],
   "source": [
    "#model_predict = np.argmax(model.predict(X_test), axis=1) \n",
    "#pd.crosstab(test_labels, model_predict, rownames=['Actual Class'], colnames=['Predicted Class'])"
   ]
  },
  {
   "cell_type": "markdown",
   "metadata": {},
   "source": [
    "### Plot Training and Validation Loss"
   ]
  },
  {
   "cell_type": "code",
   "execution_count": 23,
   "metadata": {},
   "outputs": [],
   "source": [
    "import matplotlib.pyplot as plt "
   ]
  },
  {
   "cell_type": "code",
   "execution_count": 24,
   "metadata": {},
   "outputs": [
    {
     "data": {
      "image/png": "[encoded data removed]",
      "text/plain": [
       "<matplotlib.figure.Figure at 0x14dc88978>"
      ]
     },
     "metadata": {},
     "output_type": "display_data"
    }
   ],
   "source": [
    "loss = history.history['loss']\n",
    "val_loss = history.history['val_loss']\n",
    "epochs = range(1, len(loss)+1)\n",
    "\n",
    "plt.plot(epochs, loss, 'bo', label='Training loss')\n",
    "plt.plot(epochs, val_loss, 'g', label='Validation loss')\n",
    "plt.title('Training and Validation Loss')\n",
    "plt.xlabel('Epochs')\n",
    "plt.ylabel('Loss')\n",
    "plt.legend()\n",
    "plt.show()"
   ]
  },
  {
   "cell_type": "code",
   "execution_count": 25,
   "metadata": {},
   "outputs": [
    {
     "data": {
      "image/png": "[encoded data removed]",
      "text/plain": [
       "<matplotlib.figure.Figure at 0x14dc87be0>"
      ]
     },
     "metadata": {},
     "output_type": "display_data"
    }
   ],
   "source": [
    "acc = history.history['acc']\n",
    "val_acc = history.history['val_acc']\n",
    "epochs = range(1, len(loss)+1)\n",
    "\n",
    "plt.plot(epochs, acc, 'bo', label='Training acc')\n",
    "plt.plot(epochs, val_acc, 'g', label='Validation acc')\n",
    "plt.title('Training and Validation Accuracy')\n",
    "plt.xlabel('Epochs')\n",
    "plt.ylabel('Loss')\n",
    "plt.legend()\n",
    "plt.show()"
   ]
  },
  {
   "cell_type": "code",
   "execution_count": null,
   "metadata": {},
   "outputs": [],
   "source": []
  }
 ],
 "metadata": {
  "kernelspec": {
   "display_name": "Python 3",
   "language": "python",
   "name": "python3"
  },
  "language_info": {
   "codemirror_mode": {
    "name": "ipython",
    "version": 3
   },
   "file_extension": ".py",
   "mimetype": "text/x-python",
   "name": "python",
   "nbconvert_exporter": "python",
   "pygments_lexer": "ipython3",
   "version": "3.6.3"
  }
 },
 "nbformat": 4,
 "nbformat_minor": 2
}

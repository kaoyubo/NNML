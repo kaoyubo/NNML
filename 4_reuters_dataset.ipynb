{
 "cells": [
  {
   "cell_type": "markdown",
   "metadata": {},
   "source": [
    "## Reuters Newswire Dataset \n",
    "<br>\n",
    "A collection of newswire data is assembled for text classification purposes, and full description of the dataset can be found at [UCI machine learning repositoty](https://archive.ics.uci.edu/ml/datasets/reuters-21578+text+categorization+collection). We will load data to jupyter notebook with Keras. "
   ]
  },
  {
   "cell_type": "code",
   "execution_count": 14,
   "metadata": {
    "collapsed": true
   },
   "outputs": [],
   "source": [
    "import numpy as np\n",
    "import pandas as pd"
   ]
  },
  {
   "cell_type": "code",
   "execution_count": 42,
   "metadata": {
    "collapsed": false
   },
   "outputs": [
    {
     "name": "stdout",
     "output_type": "stream",
     "text": [
      "Number of training examples:  8982\n",
      "Number of test examples:  2246\n",
      "Example of training data:  [1, 3267, 699, 3434, 2295, 56, 2, 7511, 9, 56, 3906, 1073, 81, 5, 1198, 57, 366, 737, 132, 20, 4093, 7, 2, 49, 2295, 2, 1037, 3267, 699, 3434, 8, 7, 10, 241, 16, 855, 129, 231, 783, 5, 4, 587, 2295, 2, 2, 775, 7, 48, 34, 191, 44, 35, 1795, 505, 17, 12]\n",
      "Example of training label:  4\n"
     ]
    }
   ],
   "source": [
    "import numpy as np\n",
    "import pandas as pd\n",
    "from keras.datasets import reuters \n",
    "\n",
    "max_words = 10000 #top 10000 most common words\n",
    "\n",
    "(X_train, y_train), (X_test, y_test) = reuters.load_data(num_words=max_words)\n",
    "print('Number of training examples: ', X_train.shape[0])\n",
    "print('Number of test examples: ', X_test.shape[0])\n",
    "\n",
    "print('Example of training data: ', X_train[1])\n",
    "print('Example of training label: ', y_train[1])"
   ]
  },
  {
   "cell_type": "code",
   "execution_count": 43,
   "metadata": {
    "collapsed": false
   },
   "outputs": [
    {
     "name": "stdout",
     "output_type": "stream",
     "text": [
      "Number of exmples for each topic label:  Counter({3: 3159, 4: 1949, 19: 549, 16: 444, 1: 432, 11: 390, 20: 269, 13: 172, 8: 139, 10: 124, 9: 101, 21: 100, 25: 92, 2: 74, 18: 66, 24: 62, 0: 55, 34: 50, 12: 49, 36: 49, 6: 48, 28: 48, 30: 45, 23: 41, 17: 39, 31: 39, 40: 36, 32: 32, 41: 30, 14: 26, 26: 24, 39: 24, 43: 21, 15: 20, 29: 19, 37: 19, 38: 19, 45: 18, 5: 17, 7: 16, 22: 15, 27: 15, 42: 13, 44: 12, 33: 11, 35: 10})\n"
     ]
    }
   ],
   "source": [
    "# peek at dataset \n",
    "from collections import Counter\n",
    "\n",
    "print('Number of exmples for each topic label: ', Counter(y_train))"
   ]
  },
  {
   "cell_type": "markdown",
   "metadata": {},
   "source": [
    "### 1. Data Preprocessing \n",
    "\n",
    "All observations in traning dataset are lists of word indices. \n",
    "<br>\n",
    "#### Decode Training Data "
   ]
  },
  {
   "cell_type": "code",
   "execution_count": 44,
   "metadata": {
    "collapsed": false
   },
   "outputs": [
    {
     "data": {
      "text/plain": [
       "'UNK seton co said its board has received a proposal from chairman and chief executive officer philip d UNK to acquire seton for 15 75 dlrs per share in cash seton said the acquisition bid is subject to UNK arranging the necessary financing it said he intends to ask other members of senior management to participate the company said UNK owns 30 pct of seton stock and other management members another 7 5 pct seton said it has formed an independent board committee to consider the offer and has deferred the annual meeting it had scheduled for march 31 reuter 3'"
      ]
     },
     "execution_count": 44,
     "metadata": {},
     "output_type": "execute_result"
    }
   ],
   "source": [
    "\n",
    "def decode_newswire(example):\n",
    "    \"\"\"\n",
    "        Args:\n",
    "            List of word indices \n",
    "        Returns:\n",
    "            List of words matched to given indices\n",
    "    \"\"\"\n",
    "    word_to_index = reuters.get_word_index()\n",
    "    index_to_word = dict([(key, value) for (value, key) in word_to_index.items()]) \n",
    "    words = [index_to_word.get(i-3, 'UNK') for i in example] #indices offset by 3\n",
    "    return ' '.join(words)\n",
    "\n",
    "\n",
    "# print one example newswire\n",
    "decode_newswire(X_train[4])"
   ]
  },
  {
   "cell_type": "markdown",
   "metadata": {},
   "source": [
    "#### Construct Binary Input Data with N = max_words"
   ]
  },
  {
   "cell_type": "code",
   "execution_count": 45,
   "metadata": {
    "collapsed": false
   },
   "outputs": [],
   "source": [
    "def construct_binary_input(X):\n",
    "    \"\"\"construct binary input\"\"\"\n",
    "    input = np.zeros((X.shape[0], max_words))\n",
    "    for i in range(X.shape[0]):\n",
    "        for j in range(len(X[i])):\n",
    "            input[i][X[i][j]] = 1\n",
    "    return input\n",
    "\n",
    "X_train = construct_binary_input(X_train)"
   ]
  },
  {
   "cell_type": "markdown",
   "metadata": {},
   "source": [
    "#### One-Hot Encode Labels"
   ]
  },
  {
   "cell_type": "code",
   "execution_count": 46,
   "metadata": {
    "collapsed": false
   },
   "outputs": [],
   "source": [
    "y_train = pd.get_dummies(y_train).values\n",
    "#y_train[:5]"
   ]
  },
  {
   "cell_type": "markdown",
   "metadata": {},
   "source": [
    "### 2. Construct Neural Network \n",
    "\n"
   ]
  },
  {
   "cell_type": "code",
   "execution_count": 47,
   "metadata": {
    "collapsed": true
   },
   "outputs": [],
   "source": [
    "\n",
    "def softmax(A):\n",
    "    exps = np.exp(A - np.max(A)) # prevent overflow\n",
    "    return exps / np.sum(exps)\n",
    "\n",
    "def cross_entropy_loss(model_output, target):\n",
    "    ce = -np.sum(target * np.log(model_output) + (1 - target) * np.log(1 - model_output))\n",
    "    return ce"
   ]
  },
  {
   "cell_type": "code",
   "execution_count": 48,
   "metadata": {
    "collapsed": false
   },
   "outputs": [],
   "source": [
    "\n",
    "def forward_propagation(X, W):\n",
    "    Z = np.maximum(np.dot(X, W), 0) \n",
    "    return Z\n",
    "\n",
    "def back_propagation(delta, X):  \n",
    "    gradient = np.dot(X.T, delta)\n",
    "    gradient[X < 0] = 0\n",
    "    return gradient\n",
    "\n"
   ]
  },
  {
   "cell_type": "code",
   "execution_count": 49,
   "metadata": {
    "collapsed": false
   },
   "outputs": [
    {
     "data": {
      "text/plain": [
       "(8982, 10000)"
      ]
     },
     "execution_count": 49,
     "metadata": {},
     "output_type": "execute_result"
    }
   ],
   "source": [
    "X_train.shape"
   ]
  },
  {
   "cell_type": "code",
   "execution_count": null,
   "metadata": {
    "collapsed": false
   },
   "outputs": [],
   "source": []
  },
  {
   "cell_type": "code",
   "execution_count": null,
   "metadata": {
    "collapsed": false
   },
   "outputs": [],
   "source": []
  }
 ],
 "metadata": {
  "kernelspec": {
   "display_name": "Python 3",
   "language": "python",
   "name": "python3"
  },
  "language_info": {
   "codemirror_mode": {
    "name": "ipython",
    "version": 3
   },
   "file_extension": ".py",
   "mimetype": "text/x-python",
   "name": "python",
   "nbconvert_exporter": "python",
   "pygments_lexer": "ipython3",
   "version": "3.4.3"
  }
 },
 "nbformat": 4,
 "nbformat_minor": 2
}

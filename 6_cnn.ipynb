{
 "cells": [
  {
   "cell_type": "markdown",
   "metadata": {},
   "source": [
    "## Convolutional Neural Network\n",
    "\n",
    "The neural networks we tried above were all constructed with fully connected layers, or dense layers. That is, each node in a layer connects to every node in the subsequent layer. It is expensive and slow to train a dense model, with one of the main obstacles being [vanishing gradient](https://en.wikipedia.org/wiki/Vanishing_gradient_problem). Convolutional Neural Network (CNN) uses filters to scan across input domain and learn multiple distinct features. The total number of parameters needed for training is much lower than that of a fully connected neural network. CNN was initially developed for image classification, and later applied to learning tasks in other fields. "
   ]
  },
  {
   "cell_type": "code",
   "execution_count": 13,
   "metadata": {},
   "outputs": [],
   "source": [
    "from keras.datasets import mnist, reuters"
   ]
  },
  {
   "cell_type": "markdown",
   "metadata": {},
   "source": [
    "### 2D CNN \n",
    "\n",
    "2-dimensional convolutional neural networks. "
   ]
  },
  {
   "cell_type": "code",
   "execution_count": null,
   "metadata": {},
   "outputs": [],
   "source": []
  },
  {
   "cell_type": "markdown",
   "metadata": {},
   "source": [
    "### 1D CNN\n",
    "1-dimensional convolutional neural networks"
   ]
  },
  {
   "cell_type": "code",
   "execution_count": 39,
   "metadata": {},
   "outputs": [],
   "source": []
  }
 ],
 "metadata": {
  "kernelspec": {
   "display_name": "Python 3",
   "language": "python",
   "name": "python3"
  },
  "language_info": {
   "codemirror_mode": {
    "name": "ipython",
    "version": 3
   },
   "file_extension": ".py",
   "mimetype": "text/x-python",
   "name": "python",
   "nbconvert_exporter": "python",
   "pygments_lexer": "ipython3",
   "version": "3.6.3"
  }
 },
 "nbformat": 4,
 "nbformat_minor": 2
}

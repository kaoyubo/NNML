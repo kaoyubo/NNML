{
 "cells": [
  {
   "cell_type": "markdown",
   "metadata": {},
   "source": [
    "## Introduction to Neural Networks\n",
    "\n",
    "<br>\n",
    "Artificial Neural Networks (ANN) is a machine learning algorithm which was inspired by how neurons work in our brain. A biological neuron receives inputs from upstream neurons, and whenever the membrane potential of the neuron exceeds a certain threshold, signals will be sent out to connecting downstream neurons in the form of voltage spikes. The effect of different inputs are controlled by separate synaptic weights. As various inputs change with time, synapse weights adapt and the entire network can learn useful computations.  \n",
    "<br>\n",
    "A typical ANN consists of few main components, inputs, weights, and outputs. Two main types of neural networks atchitechture are:\n",
    "* feed forward networks\n",
    "* recurrent networks "
   ]
  },
  {
   "cell_type": "markdown",
   "metadata": {},
   "source": [
    "### 1. Perceptron\n",
    "\n",
    "<br>\n",
    "A good and simple way to appreciate the nuances of neural networks is to construct a perceptron. Perceptron is a linear binary classifer. "
   ]
  },
  {
   "cell_type": "code",
   "execution_count": null,
   "metadata": {
    "collapsed": true
   },
   "outputs": [],
   "source": [
    "import numpy as np \n",
    "\n",
    "def forward_propagation(W, X):\n",
    "    \"\"\"\n",
    "        Args:\n",
    "        \n",
    "        Returns:\n",
    "    \"\"\"\n"
   ]
  },
  {
   "cell_type": "code",
   "execution_count": null,
   "metadata": {
    "collapsed": true
   },
   "outputs": [],
   "source": []
  },
  {
   "cell_type": "code",
   "execution_count": null,
   "metadata": {
    "collapsed": true
   },
   "outputs": [],
   "source": []
  },
  {
   "cell_type": "markdown",
   "metadata": {},
   "source": []
  }
 ],
 "metadata": {
  "kernelspec": {
   "display_name": "Python 3",
   "language": "python",
   "name": "python3"
  },
  "language_info": {
   "codemirror_mode": {
    "name": "ipython",
    "version": 3
   },
   "file_extension": ".py",
   "mimetype": "text/x-python",
   "name": "python",
   "nbconvert_exporter": "python",
   "pygments_lexer": "ipython3",
   "version": "3.4.3"
  }
 },
 "nbformat": 4,
 "nbformat_minor": 2
}

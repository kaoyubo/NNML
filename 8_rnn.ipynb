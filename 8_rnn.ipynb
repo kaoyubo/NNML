{
 "cells": [
  {
   "cell_type": "markdown",
   "metadata": {},
   "source": [
    "## Recurrent Neural Network\n",
    "\n",
    "Recurrent neural networks (RNN) is a class of artificial neural networks specifically designed to learn patterns in sequential data. RNN is used in many fields, including speech recognition, stock price prediction, as well as machine translation. The basic idea of RNN can be shown in training a language model where the probability of a sentence is calcualted by \n",
    "\n",
    "\\begin{equation*}\n",
    "P(w_1,w_2,... w_m) = \\prod_{i=1}^{m} P(w_i | w_1, w_2,... w_{i-1}).\n",
    "\\end{equation*}\n",
    "\n",
    "The probability of a sentence is the product of probabilities for each word given all words preceeding it. RNN learns sequence patterns by performing same task on each element one after another, collecting information about sequence order in the weights. The main equations of RNN are:   \n",
    "\n",
    "\\begin{equation*}\n",
    "h_t = \\sigma(U x_t + W h_{t-1} + b)\n",
    "\\end{equation*}\n",
    "\\begin{equation*}\n",
    "y_t = softmax(V h_t + b)\n",
    "\\end{equation*}\n",
    "\n",
    "where $U$, $W$, and $V$ are weight matrices, $x_t$ is input at step $t$, $h_t$ is hidden layer at step $t$, and $y_t$ represents output at step $t$.  \n",
    "\n",
    "\n",
    "References:\n",
    "\n",
    "http://karpathy.github.io/2015/05/21/rnn-effectiveness/\n",
    "\n",
    "https://github.com/dennybritz/rnn-tutorial-rnnlm"
   ]
  },
  {
   "cell_type": "code",
   "execution_count": null,
   "metadata": {},
   "outputs": [],
   "source": [
    "import numpy as np \n"
   ]
  },
  {
   "cell_type": "code",
   "execution_count": null,
   "metadata": {},
   "outputs": [],
   "source": [
    "U = 0.01 * np.random.randn(hidden_size, vocab_size) \n",
    "W = 0.01 * np.random.randn(hidden_size, hidden_size)\n",
    "V = 0.01 * np.random.randn(vocab_size, hidden_size) \n",
    "\n",
    "b1 = np.zeros((1, hidden_size))\n",
    "b2 = np.zeros((vocab_size, 1)) "
   ]
  }
 ],
 "metadata": {
  "kernelspec": {
   "display_name": "Python 3",
   "language": "python",
   "name": "python3"
  },
  "language_info": {
   "codemirror_mode": {
    "name": "ipython",
    "version": 3
   },
   "file_extension": ".py",
   "mimetype": "text/x-python",
   "name": "python",
   "nbconvert_exporter": "python",
   "pygments_lexer": "ipython3",
   "version": "3.6.3"
  }
 },
 "nbformat": 4,
 "nbformat_minor": 2
}
